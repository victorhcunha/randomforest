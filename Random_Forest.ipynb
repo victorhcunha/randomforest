{
  "nbformat": 4,
  "nbformat_minor": 0,
  "metadata": {
    "colab": {
      "name": "Random Forest.ipynb",
      "provenance": [],
      "toc_visible": true,
      "authorship_tag": "ABX9TyPEidWBEfq97YlOSBIniQqA",
      "include_colab_link": true
    },
    "kernelspec": {
      "name": "python3",
      "display_name": "Python 3"
    },
    "language_info": {
      "name": "python"
    }
  },
  "cells": [
    {
      "cell_type": "markdown",
      "metadata": {
        "id": "view-in-github",
        "colab_type": "text"
      },
      "source": [
        "<a href=\"https://colab.research.google.com/github/victorhcunha/reandomforests/blob/main/Random_Forest.ipynb\" target=\"_parent\"><img src=\"https://colab.research.google.com/assets/colab-badge.svg\" alt=\"Open In Colab\"/></a>"
      ]
    },
    {
      "cell_type": "markdown",
      "metadata": {
        "id": "W6SeWMDH9wYg"
      },
      "source": [
        "#Importação de Bibliotecas"
      ]
    },
    {
      "cell_type": "code",
      "metadata": {
        "id": "AY7si9AFeU4x"
      },
      "source": [
        "#Importação de bibliotecas\n",
        "from sklearn import datasets #Dados\n",
        "from sklearn.model_selection import train_test_split #Divisão de dados\n",
        "from sklearn.ensemble import RandomForestClassifier #Arvore Aleatória\n",
        "import pandas as pd #Tabela de Dados e importancia da feature\n",
        "from sklearn import metrics #acuracia\n"
      ],
      "execution_count": null,
      "outputs": []
    },
    {
      "cell_type": "markdown",
      "metadata": {
        "id": "KN-EQhWD90Sv"
      },
      "source": [
        "#Dados"
      ]
    },
    {
      "cell_type": "code",
      "metadata": {
        "id": "Kbib6RlU7QgF"
      },
      "source": [
        "#Carregar dados\n",
        "dataIris = datasets.load_iris()"
      ],
      "execution_count": null,
      "outputs": []
    },
    {
      "cell_type": "code",
      "metadata": {
        "colab": {
          "base_uri": "https://localhost:8080/"
        },
        "id": "qYcjFMAg7dto",
        "outputId": "7ecc496f-7d3b-4dfe-a521-3e8ccbdaabe3"
      },
      "source": [
        "#Imprimir classes\n",
        "print(dataIris.target_names)\n",
        "\n",
        "#Imprimir features\n",
        "print(dataIris.feature_names)"
      ],
      "execution_count": null,
      "outputs": [
        {
          "output_type": "stream",
          "text": [
            "['setosa' 'versicolor' 'virginica']\n",
            "['sepal length (cm)', 'sepal width (cm)', 'petal length (cm)', 'petal width (cm)']\n"
          ],
          "name": "stdout"
        }
      ]
    },
    {
      "cell_type": "code",
      "metadata": {
        "colab": {
          "base_uri": "https://localhost:8080/",
          "height": 204
        },
        "id": "e0-1DtLWhAUZ",
        "outputId": "fe7eb145-542d-487b-a285-8eeb703d44fa"
      },
      "source": [
        "# Criação de Tabela\n",
        "data=pd.DataFrame({\n",
        "    'sepal length':dataIris.data[:,0],\n",
        "    'sepal width':dataIris.data[:,1],\n",
        "    'petal length':dataIris.data[:,2],\n",
        "    'petal width':dataIris.data[:,3],\n",
        "    'species':dataIris.target\n",
        "})\n",
        "data.head() #imprime os 4 primeiros"
      ],
      "execution_count": null,
      "outputs": [
        {
          "output_type": "execute_result",
          "data": {
            "text/html": [
              "<div>\n",
              "<style scoped>\n",
              "    .dataframe tbody tr th:only-of-type {\n",
              "        vertical-align: middle;\n",
              "    }\n",
              "\n",
              "    .dataframe tbody tr th {\n",
              "        vertical-align: top;\n",
              "    }\n",
              "\n",
              "    .dataframe thead th {\n",
              "        text-align: right;\n",
              "    }\n",
              "</style>\n",
              "<table border=\"1\" class=\"dataframe\">\n",
              "  <thead>\n",
              "    <tr style=\"text-align: right;\">\n",
              "      <th></th>\n",
              "      <th>sepal length</th>\n",
              "      <th>sepal width</th>\n",
              "      <th>petal length</th>\n",
              "      <th>petal width</th>\n",
              "      <th>species</th>\n",
              "    </tr>\n",
              "  </thead>\n",
              "  <tbody>\n",
              "    <tr>\n",
              "      <th>0</th>\n",
              "      <td>5.1</td>\n",
              "      <td>3.5</td>\n",
              "      <td>1.4</td>\n",
              "      <td>0.2</td>\n",
              "      <td>0</td>\n",
              "    </tr>\n",
              "    <tr>\n",
              "      <th>1</th>\n",
              "      <td>4.9</td>\n",
              "      <td>3.0</td>\n",
              "      <td>1.4</td>\n",
              "      <td>0.2</td>\n",
              "      <td>0</td>\n",
              "    </tr>\n",
              "    <tr>\n",
              "      <th>2</th>\n",
              "      <td>4.7</td>\n",
              "      <td>3.2</td>\n",
              "      <td>1.3</td>\n",
              "      <td>0.2</td>\n",
              "      <td>0</td>\n",
              "    </tr>\n",
              "    <tr>\n",
              "      <th>3</th>\n",
              "      <td>4.6</td>\n",
              "      <td>3.1</td>\n",
              "      <td>1.5</td>\n",
              "      <td>0.2</td>\n",
              "      <td>0</td>\n",
              "    </tr>\n",
              "    <tr>\n",
              "      <th>4</th>\n",
              "      <td>5.0</td>\n",
              "      <td>3.6</td>\n",
              "      <td>1.4</td>\n",
              "      <td>0.2</td>\n",
              "      <td>0</td>\n",
              "    </tr>\n",
              "  </tbody>\n",
              "</table>\n",
              "</div>"
            ],
            "text/plain": [
              "   sepal length  sepal width  petal length  petal width  species\n",
              "0           5.1          3.5           1.4          0.2        0\n",
              "1           4.9          3.0           1.4          0.2        0\n",
              "2           4.7          3.2           1.3          0.2        0\n",
              "3           4.6          3.1           1.5          0.2        0\n",
              "4           5.0          3.6           1.4          0.2        0"
            ]
          },
          "metadata": {
            "tags": []
          },
          "execution_count": 36
        }
      ]
    },
    {
      "cell_type": "markdown",
      "metadata": {
        "id": "PJhwMa3Afytc"
      },
      "source": [
        "#Divisão de dados"
      ]
    },
    {
      "cell_type": "code",
      "metadata": {
        "id": "mxMIiZCXf2Ft"
      },
      "source": [
        "# Divisão de dados\n",
        "X=data[['sepal length', 'sepal width', 'petal length', 'petal width']]  # Features\n",
        "y=data['species']  # Classes\n",
        "\n",
        "# Dividir dados de teste e treino\n",
        "X_train, X_test, y_train, y_test = train_test_split(X, y, test_size=0.25) # 25% dos dados para teste"
      ],
      "execution_count": null,
      "outputs": []
    },
    {
      "cell_type": "code",
      "metadata": {
        "colab": {
          "base_uri": "https://localhost:8080/"
        },
        "id": "NdTEYSjwhqWT",
        "outputId": "aa9b9ca2-91b1-4451-ef9c-1bdc80e71d78"
      },
      "source": [
        "# Impressão de dados\n",
        "print(X,y)"
      ],
      "execution_count": null,
      "outputs": [
        {
          "output_type": "stream",
          "text": [
            "     sepal length  sepal width  petal length  petal width\n",
            "0             5.1          3.5           1.4          0.2\n",
            "1             4.9          3.0           1.4          0.2\n",
            "2             4.7          3.2           1.3          0.2\n",
            "3             4.6          3.1           1.5          0.2\n",
            "4             5.0          3.6           1.4          0.2\n",
            "..            ...          ...           ...          ...\n",
            "145           6.7          3.0           5.2          2.3\n",
            "146           6.3          2.5           5.0          1.9\n",
            "147           6.5          3.0           5.2          2.0\n",
            "148           6.2          3.4           5.4          2.3\n",
            "149           5.9          3.0           5.1          1.8\n",
            "\n",
            "[150 rows x 4 columns] 0      0\n",
            "1      0\n",
            "2      0\n",
            "3      0\n",
            "4      0\n",
            "      ..\n",
            "145    2\n",
            "146    2\n",
            "147    2\n",
            "148    2\n",
            "149    2\n",
            "Name: species, Length: 150, dtype: int64\n"
          ],
          "name": "stdout"
        }
      ]
    },
    {
      "cell_type": "markdown",
      "metadata": {
        "id": "I21GsaDOh4J7"
      },
      "source": [
        "#Árvore Aleatória e Calculo de Acurácia"
      ]
    },
    {
      "cell_type": "code",
      "metadata": {
        "colab": {
          "base_uri": "https://localhost:8080/"
        },
        "id": "R9NlIihNh8i7",
        "outputId": "a725a7f8-ffe7-493d-c211-65f73e251c28"
      },
      "source": [
        "#Criando Árvore Aleatoria\n",
        "clf=RandomForestClassifier(n_estimators=100)\n",
        "\n",
        "#Treinando o Modelo\n",
        "clf.fit(X_train,y_train)\n",
        "\n",
        "#Ralizando a previsão\n",
        "y_pred=clf.predict(X_test)\n",
        "\n",
        "#Calculando a acurácia da previsão\n",
        "print(\"Accuracy:\",metrics.accuracy_score(y_test, y_pred))"
      ],
      "execution_count": null,
      "outputs": [
        {
          "output_type": "stream",
          "text": [
            "Accuracy: 0.9736842105263158\n"
          ],
          "name": "stdout"
        }
      ]
    },
    {
      "cell_type": "code",
      "metadata": {
        "colab": {
          "base_uri": "https://localhost:8080/"
        },
        "id": "Kq0VfSA6jjJF",
        "outputId": "0492ce21-3b3f-4ea1-90d8-c183372b8cb0"
      },
      "source": [
        "#Calculando a importância de cada feature\n",
        "feature_imp = pd.Series(clf.feature_importances_,index=dataIris.feature_names).sort_values(ascending=False)\n",
        "feature_imp"
      ],
      "execution_count": null,
      "outputs": [
        {
          "output_type": "execute_result",
          "data": {
            "text/plain": [
              "petal length (cm)    0.451040\n",
              "petal width (cm)     0.411592\n",
              "sepal length (cm)    0.110936\n",
              "sepal width (cm)     0.026432\n",
              "dtype: float64"
            ]
          },
          "metadata": {
            "tags": []
          },
          "execution_count": 40
        }
      ]
    },
    {
      "cell_type": "markdown",
      "metadata": {
        "id": "VG4OmEoa15VC"
      },
      "source": [
        "#Calculando para vários tamanhos"
      ]
    },
    {
      "cell_type": "code",
      "metadata": {
        "id": "7Q4keM2M-RE7"
      },
      "source": [
        "numberTree = [100, 200, 300, 400, 500, 600, 700, 800, 900, 1000]\n",
        "accuracy = []\n",
        "\n",
        "for i in numberTree:\n",
        "  trees = RandomForestClassifier(n_estimators=i)\n",
        "  trees.fit(X_train,y_train)\n",
        "  y_pred=trees.predict(X_test)\n",
        "  accuracy.append(metrics.accuracy_score(y_test, y_pred))"
      ],
      "execution_count": null,
      "outputs": []
    },
    {
      "cell_type": "code",
      "metadata": {
        "colab": {
          "base_uri": "https://localhost:8080/",
          "height": 359
        },
        "id": "8YQvB4Y8EQeB",
        "outputId": "7a217243-6704-4664-a099-d95090523392"
      },
      "source": [
        "# Criação de Tabela\n",
        "data=pd.DataFrame({\n",
        "    'Número de Árvores':numberTree,\n",
        "    'Acurácia':accuracy,\n",
        "})\n",
        "data.head(len(numberTree))"
      ],
      "execution_count": null,
      "outputs": [
        {
          "output_type": "execute_result",
          "data": {
            "text/html": [
              "<div>\n",
              "<style scoped>\n",
              "    .dataframe tbody tr th:only-of-type {\n",
              "        vertical-align: middle;\n",
              "    }\n",
              "\n",
              "    .dataframe tbody tr th {\n",
              "        vertical-align: top;\n",
              "    }\n",
              "\n",
              "    .dataframe thead th {\n",
              "        text-align: right;\n",
              "    }\n",
              "</style>\n",
              "<table border=\"1\" class=\"dataframe\">\n",
              "  <thead>\n",
              "    <tr style=\"text-align: right;\">\n",
              "      <th></th>\n",
              "      <th>Número de Árvores</th>\n",
              "      <th>Acurácia</th>\n",
              "    </tr>\n",
              "  </thead>\n",
              "  <tbody>\n",
              "    <tr>\n",
              "      <th>0</th>\n",
              "      <td>100</td>\n",
              "      <td>0.947368</td>\n",
              "    </tr>\n",
              "    <tr>\n",
              "      <th>1</th>\n",
              "      <td>200</td>\n",
              "      <td>0.973684</td>\n",
              "    </tr>\n",
              "    <tr>\n",
              "      <th>2</th>\n",
              "      <td>300</td>\n",
              "      <td>0.947368</td>\n",
              "    </tr>\n",
              "    <tr>\n",
              "      <th>3</th>\n",
              "      <td>400</td>\n",
              "      <td>0.947368</td>\n",
              "    </tr>\n",
              "    <tr>\n",
              "      <th>4</th>\n",
              "      <td>500</td>\n",
              "      <td>0.973684</td>\n",
              "    </tr>\n",
              "    <tr>\n",
              "      <th>5</th>\n",
              "      <td>600</td>\n",
              "      <td>0.973684</td>\n",
              "    </tr>\n",
              "    <tr>\n",
              "      <th>6</th>\n",
              "      <td>700</td>\n",
              "      <td>0.973684</td>\n",
              "    </tr>\n",
              "    <tr>\n",
              "      <th>7</th>\n",
              "      <td>800</td>\n",
              "      <td>0.973684</td>\n",
              "    </tr>\n",
              "    <tr>\n",
              "      <th>8</th>\n",
              "      <td>900</td>\n",
              "      <td>0.973684</td>\n",
              "    </tr>\n",
              "    <tr>\n",
              "      <th>9</th>\n",
              "      <td>1000</td>\n",
              "      <td>0.973684</td>\n",
              "    </tr>\n",
              "  </tbody>\n",
              "</table>\n",
              "</div>"
            ],
            "text/plain": [
              "   Número de Árvores  Acurácia\n",
              "0                100  0.947368\n",
              "1                200  0.973684\n",
              "2                300  0.947368\n",
              "3                400  0.947368\n",
              "4                500  0.973684\n",
              "5                600  0.973684\n",
              "6                700  0.973684\n",
              "7                800  0.973684\n",
              "8                900  0.973684\n",
              "9               1000  0.973684"
            ]
          },
          "metadata": {
            "tags": []
          },
          "execution_count": 42
        }
      ]
    },
    {
      "cell_type": "markdown",
      "metadata": {
        "id": "cQCfnsnlFRww"
      },
      "source": [
        "#Calculando para quantidades menores de árvores"
      ]
    },
    {
      "cell_type": "code",
      "metadata": {
        "colab": {
          "base_uri": "https://localhost:8080/",
          "height": 669
        },
        "id": "6F_r-yP9FYa7",
        "outputId": "1fbb5e02-65aa-4401-fc01-17be39ff3467"
      },
      "source": [
        "numberTree = range(1,21)\n",
        "accuracy = []\n",
        "\n",
        "for i in numberTree:\n",
        "  trees = RandomForestClassifier(n_estimators=i)\n",
        "  trees.fit(X_train,y_train)\n",
        "  y_pred=trees.predict(X_test)\n",
        "  accuracy.append(metrics.accuracy_score(y_test, y_pred))\n",
        "\n",
        "# Criação de Tabela\n",
        "data=pd.DataFrame({\n",
        "    'Número de Árvores':numberTree,\n",
        "    'Acurácia':accuracy,\n",
        "})\n",
        "data.head(len(numberTree))"
      ],
      "execution_count": null,
      "outputs": [
        {
          "output_type": "execute_result",
          "data": {
            "text/html": [
              "<div>\n",
              "<style scoped>\n",
              "    .dataframe tbody tr th:only-of-type {\n",
              "        vertical-align: middle;\n",
              "    }\n",
              "\n",
              "    .dataframe tbody tr th {\n",
              "        vertical-align: top;\n",
              "    }\n",
              "\n",
              "    .dataframe thead th {\n",
              "        text-align: right;\n",
              "    }\n",
              "</style>\n",
              "<table border=\"1\" class=\"dataframe\">\n",
              "  <thead>\n",
              "    <tr style=\"text-align: right;\">\n",
              "      <th></th>\n",
              "      <th>Número de Árvores</th>\n",
              "      <th>Acurácia</th>\n",
              "    </tr>\n",
              "  </thead>\n",
              "  <tbody>\n",
              "    <tr>\n",
              "      <th>0</th>\n",
              "      <td>1</td>\n",
              "      <td>0.947368</td>\n",
              "    </tr>\n",
              "    <tr>\n",
              "      <th>1</th>\n",
              "      <td>2</td>\n",
              "      <td>0.947368</td>\n",
              "    </tr>\n",
              "    <tr>\n",
              "      <th>2</th>\n",
              "      <td>3</td>\n",
              "      <td>0.921053</td>\n",
              "    </tr>\n",
              "    <tr>\n",
              "      <th>3</th>\n",
              "      <td>4</td>\n",
              "      <td>0.947368</td>\n",
              "    </tr>\n",
              "    <tr>\n",
              "      <th>4</th>\n",
              "      <td>5</td>\n",
              "      <td>0.973684</td>\n",
              "    </tr>\n",
              "    <tr>\n",
              "      <th>5</th>\n",
              "      <td>6</td>\n",
              "      <td>0.947368</td>\n",
              "    </tr>\n",
              "    <tr>\n",
              "      <th>6</th>\n",
              "      <td>7</td>\n",
              "      <td>0.947368</td>\n",
              "    </tr>\n",
              "    <tr>\n",
              "      <th>7</th>\n",
              "      <td>8</td>\n",
              "      <td>0.947368</td>\n",
              "    </tr>\n",
              "    <tr>\n",
              "      <th>8</th>\n",
              "      <td>9</td>\n",
              "      <td>0.973684</td>\n",
              "    </tr>\n",
              "    <tr>\n",
              "      <th>9</th>\n",
              "      <td>10</td>\n",
              "      <td>0.947368</td>\n",
              "    </tr>\n",
              "    <tr>\n",
              "      <th>10</th>\n",
              "      <td>11</td>\n",
              "      <td>0.973684</td>\n",
              "    </tr>\n",
              "    <tr>\n",
              "      <th>11</th>\n",
              "      <td>12</td>\n",
              "      <td>0.973684</td>\n",
              "    </tr>\n",
              "    <tr>\n",
              "      <th>12</th>\n",
              "      <td>13</td>\n",
              "      <td>0.973684</td>\n",
              "    </tr>\n",
              "    <tr>\n",
              "      <th>13</th>\n",
              "      <td>14</td>\n",
              "      <td>0.947368</td>\n",
              "    </tr>\n",
              "    <tr>\n",
              "      <th>14</th>\n",
              "      <td>15</td>\n",
              "      <td>0.947368</td>\n",
              "    </tr>\n",
              "    <tr>\n",
              "      <th>15</th>\n",
              "      <td>16</td>\n",
              "      <td>0.973684</td>\n",
              "    </tr>\n",
              "    <tr>\n",
              "      <th>16</th>\n",
              "      <td>17</td>\n",
              "      <td>0.973684</td>\n",
              "    </tr>\n",
              "    <tr>\n",
              "      <th>17</th>\n",
              "      <td>18</td>\n",
              "      <td>0.947368</td>\n",
              "    </tr>\n",
              "    <tr>\n",
              "      <th>18</th>\n",
              "      <td>19</td>\n",
              "      <td>0.947368</td>\n",
              "    </tr>\n",
              "    <tr>\n",
              "      <th>19</th>\n",
              "      <td>20</td>\n",
              "      <td>0.973684</td>\n",
              "    </tr>\n",
              "  </tbody>\n",
              "</table>\n",
              "</div>"
            ],
            "text/plain": [
              "    Número de Árvores  Acurácia\n",
              "0                   1  0.947368\n",
              "1                   2  0.947368\n",
              "2                   3  0.921053\n",
              "3                   4  0.947368\n",
              "4                   5  0.973684\n",
              "5                   6  0.947368\n",
              "6                   7  0.947368\n",
              "7                   8  0.947368\n",
              "8                   9  0.973684\n",
              "9                  10  0.947368\n",
              "10                 11  0.973684\n",
              "11                 12  0.973684\n",
              "12                 13  0.973684\n",
              "13                 14  0.947368\n",
              "14                 15  0.947368\n",
              "15                 16  0.973684\n",
              "16                 17  0.973684\n",
              "17                 18  0.947368\n",
              "18                 19  0.947368\n",
              "19                 20  0.973684"
            ]
          },
          "metadata": {
            "tags": []
          },
          "execution_count": 43
        }
      ]
    },
    {
      "cell_type": "markdown",
      "metadata": {
        "id": "PWrwY2FCgciY"
      },
      "source": [
        "#Random Forest com feature a menos"
      ]
    },
    {
      "cell_type": "code",
      "metadata": {
        "id": "Nrpune04gmDJ"
      },
      "source": [
        "# Recriação de Tabela\n",
        "data=pd.DataFrame({\n",
        "    'sepal length':dataIris.data[:,0],\n",
        "    'petal length':dataIris.data[:,2],\n",
        "    'petal width':dataIris.data[:,3],\n",
        "    'species':dataIris.target\n",
        "})\n",
        "data.head() #imprime os 4 primeiros\n",
        "\n",
        "X=data[['petal length', 'petal width','sepal length']]  # Removido \"sepal width\"\n",
        "y=data['species']  # Classes\n",
        "\n",
        "#Dividindo dados\n",
        "X_train, X_test, y_train, y_test = train_test_split(X, y, test_size=0.25) # 25% dos dados para teste\n"
      ],
      "execution_count": null,
      "outputs": []
    },
    {
      "cell_type": "code",
      "metadata": {
        "colab": {
          "base_uri": "https://localhost:8080/",
          "height": 359
        },
        "id": "50kNd3sEgyUK",
        "outputId": "d822774f-1f44-4545-e6cf-861f221ecf73"
      },
      "source": [
        "numberTree = [100, 200, 300, 400, 500, 600, 700, 800, 900, 1000]\n",
        "accuracy = []\n",
        "\n",
        "for i in numberTree:\n",
        "  trees = RandomForestClassifier(n_estimators=i)\n",
        "  trees.fit(X_train,y_train)\n",
        "  y_pred=trees.predict(X_test)\n",
        "  accuracy.append(metrics.accuracy_score(y_test, y_pred))\n",
        "\n",
        "# Criação de Tabela\n",
        "data=pd.DataFrame({\n",
        "    'Número de Árvores':numberTree,\n",
        "    'Acurácia':accuracy,\n",
        "})\n",
        "data.head(len(numberTree))"
      ],
      "execution_count": null,
      "outputs": [
        {
          "output_type": "execute_result",
          "data": {
            "text/html": [
              "<div>\n",
              "<style scoped>\n",
              "    .dataframe tbody tr th:only-of-type {\n",
              "        vertical-align: middle;\n",
              "    }\n",
              "\n",
              "    .dataframe tbody tr th {\n",
              "        vertical-align: top;\n",
              "    }\n",
              "\n",
              "    .dataframe thead th {\n",
              "        text-align: right;\n",
              "    }\n",
              "</style>\n",
              "<table border=\"1\" class=\"dataframe\">\n",
              "  <thead>\n",
              "    <tr style=\"text-align: right;\">\n",
              "      <th></th>\n",
              "      <th>Número de Árvores</th>\n",
              "      <th>Acurácia</th>\n",
              "    </tr>\n",
              "  </thead>\n",
              "  <tbody>\n",
              "    <tr>\n",
              "      <th>0</th>\n",
              "      <td>100</td>\n",
              "      <td>0.947368</td>\n",
              "    </tr>\n",
              "    <tr>\n",
              "      <th>1</th>\n",
              "      <td>200</td>\n",
              "      <td>0.947368</td>\n",
              "    </tr>\n",
              "    <tr>\n",
              "      <th>2</th>\n",
              "      <td>300</td>\n",
              "      <td>0.947368</td>\n",
              "    </tr>\n",
              "    <tr>\n",
              "      <th>3</th>\n",
              "      <td>400</td>\n",
              "      <td>0.947368</td>\n",
              "    </tr>\n",
              "    <tr>\n",
              "      <th>4</th>\n",
              "      <td>500</td>\n",
              "      <td>0.947368</td>\n",
              "    </tr>\n",
              "    <tr>\n",
              "      <th>5</th>\n",
              "      <td>600</td>\n",
              "      <td>0.947368</td>\n",
              "    </tr>\n",
              "    <tr>\n",
              "      <th>6</th>\n",
              "      <td>700</td>\n",
              "      <td>0.947368</td>\n",
              "    </tr>\n",
              "    <tr>\n",
              "      <th>7</th>\n",
              "      <td>800</td>\n",
              "      <td>0.947368</td>\n",
              "    </tr>\n",
              "    <tr>\n",
              "      <th>8</th>\n",
              "      <td>900</td>\n",
              "      <td>0.947368</td>\n",
              "    </tr>\n",
              "    <tr>\n",
              "      <th>9</th>\n",
              "      <td>1000</td>\n",
              "      <td>0.947368</td>\n",
              "    </tr>\n",
              "  </tbody>\n",
              "</table>\n",
              "</div>"
            ],
            "text/plain": [
              "   Número de Árvores  Acurácia\n",
              "0                100  0.947368\n",
              "1                200  0.947368\n",
              "2                300  0.947368\n",
              "3                400  0.947368\n",
              "4                500  0.947368\n",
              "5                600  0.947368\n",
              "6                700  0.947368\n",
              "7                800  0.947368\n",
              "8                900  0.947368\n",
              "9               1000  0.947368"
            ]
          },
          "metadata": {
            "tags": []
          },
          "execution_count": 52
        }
      ]
    }
  ]
}